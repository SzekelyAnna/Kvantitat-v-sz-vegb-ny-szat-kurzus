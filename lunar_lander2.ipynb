{
  "cells": [
    {
      "cell_type": "markdown",
      "metadata": {
        "id": "view-in-github",
        "colab_type": "text"
      },
      "source": [
        "<a href=\"https://colab.research.google.com/github/SzekelyAnna/QTA-SZISZ2022/blob/main/lunar_lander2.ipynb\" target=\"_parent\"><img src=\"https://colab.research.google.com/assets/colab-badge.svg\" alt=\"Open In Colab\"/></a>"
      ]
    },
    {
      "cell_type": "markdown",
      "metadata": {
        "execution": {},
        "id": "SUrSh4XdxX_Y"
      },
      "source": [
        "# Performance Analysis of DQN Algorithm on the Lunar Lander task\n",
        "\n",
        "**By Neuromatch Academy**\n",
        "\n",
        "__Content creators:__ Raghuram Bharadwaj Diddigi, Geraud Nangue Tasse, Yamil Vidal, Sanjukta Krishnagopal, Sara Rajaee\n",
        "\n",
        "__Content editors:__ Spiros Chavlis"
      ]
    },
    {
      "cell_type": "markdown",
      "metadata": {
        "execution": {},
        "id": "wNDGLaOlxX_a"
      },
      "source": [
        "<p align='center'><img src='https://github.com/NeuromatchAcademy/widgets/blob/master/sponsors.png?raw=True'/></p>"
      ]
    },
    {
      "cell_type": "markdown",
      "metadata": {
        "execution": {},
        "id": "uDujxcmLxX_b"
      },
      "source": [
        "---\n",
        "# Objective\n",
        "\n",
        "In this project, the objective is to analyze the performance of the Deep Q-Learning algorithm on an exciting task- Lunar Lander. Before we describe the task, let us focus on two keywords here - analysis and performance. What exactly do we mean by these keywords in the context of Reinforcement Learning (RL)?"
      ]
    },
    {
      "cell_type": "markdown",
      "metadata": {
        "execution": {},
        "id": "S5ONwnv2xX_b"
      },
      "source": [
        "---\n",
        "# Setup"
      ]
    },
    {
      "cell_type": "code",
      "execution_count": 22,
      "metadata": {
        "execution": {},
        "id": "g_pkwx9SxX_b"
      },
      "outputs": [],
      "source": [
        "# @title Install dependencies\n",
        "!sudo apt-get update > /dev/null 2>&1\n",
        "!sudo apt-get install -y xvfb python-opengl ffmpeg > /dev/null 2>&1\n",
        "!pip install rarfile --quiet\n",
        "!pip install stable-baselines3[extra] ale-py==0.7.4 --quiet\n",
        "!pip install box2d-py --quiet\n",
        "!pip install gym pyvirtualdisplay --quiet\n",
        "!pip install pyglet --quiet\n",
        "#!pip3 install torch~=1.7.1 -f https://download.pytorch.org/whl/torch_stable.html"
      ]
    },
    {
      "cell_type": "code",
      "execution_count": 23,
      "metadata": {
        "execution": {},
        "id": "RX13NcYFxX_c"
      },
      "outputs": [],
      "source": [
        "# Imports\n",
        "import io\n",
        "import os\n",
        "import copy \n",
        "import glob\n",
        "import torch\n",
        "import base64\n",
        "import stable_baselines3\n",
        "\n",
        "import numpy as np\n",
        "import matplotlib.pyplot as plt\n",
        "\n",
        "from stable_baselines3 import DQN\n",
        "from stable_baselines3.common.results_plotter import ts2xy, load_results\n",
        "from stable_baselines3.common.callbacks import EvalCallback\n",
        "from stable_baselines3.common.env_util import make_atari_env\n",
        "\n",
        "import gym\n",
        "from gym import spaces\n",
        "from gym.wrappers import Monitor"
      ]
    },
    {
      "cell_type": "code",
      "source": [
        ""
      ],
      "metadata": {
        "id": "RXPCTeoKikoo"
      },
      "execution_count": 23,
      "outputs": []
    },
    {
      "cell_type": "code",
      "source": [
        "#model.get_pretrain_placeholders()"
      ],
      "metadata": {
        "id": "gBAJdhCUCVgA"
      },
      "execution_count": 24,
      "outputs": []
    },
    {
      "cell_type": "code",
      "execution_count": 25,
      "metadata": {
        "cellView": "form",
        "execution": {},
        "id": "lBj1RawPxX_c"
      },
      "outputs": [],
      "source": [
        "# @title Plotting/Video functions\n",
        "from IPython.display import HTML\n",
        "from pyvirtualdisplay import Display\n",
        "from IPython import display as ipythondisplay\n",
        "\n",
        "display = Display(visible=0, size=(1400, 900))\n",
        "display.start()\n",
        "\n",
        "\"\"\"\n",
        "Utility functions to enable video recording of gym environment\n",
        "and displaying it.\n",
        "To enable video, just do \"env = wrap_env(env)\"\"\n",
        "\"\"\"\n",
        "\n",
        "def show_video():\n",
        "  mp4list = glob.glob('video/*.mp4')\n",
        "  if len(mp4list) > 0:\n",
        "    mp4 = mp4list[0]\n",
        "    video = io.open(mp4, 'r+b').read()\n",
        "    encoded = base64.b64encode(video)\n",
        "    ipythondisplay.display(HTML(data='''<video alt=\"test\" autoplay\n",
        "                loop controls style=\"height: 400px;\">\n",
        "                <source src=\"data:video/mp4;base64,{0}\" type=\"video/mp4\" />\n",
        "             </video>'''.format(encoded.decode('ascii'))))\n",
        "  else:\n",
        "    print(\"Could not find video\")\n",
        "\n",
        "\n",
        "def wrap_env(env):\n",
        "  env = Monitor(env, './video', force=True)\n",
        "  return env"
      ]
    },
    {
      "cell_type": "markdown",
      "metadata": {
        "execution": {},
        "id": "4402FLy0xX_d"
      },
      "source": [
        "---\n",
        "# Introduction\n",
        "\n",
        "In a standard RL setting, an agent learns optimal behavior from an environment through a feedback mechanism to maximize a given objective. Many algorithms have been proposed in the RL literature that an agent can apply to learn the optimal behavior. One such popular algorithm is the Deep Q-Network (DQN). This algorithm makes use of deep neural networks to compute optimal actions. In this project, your goal is to understand the effect of the number of neural network layers on the algorithm's performance. The performance of the algorithm can be evaluated through two metrics - Speed and Stability. \n",
        "\n",
        "**Speed:** How fast the algorithm reaches the maximum possible reward. \n",
        "\n",
        "**Stability** In some applications (especially when online learning is involved), along with speed, stability of the algorithm, i.e., minimal fluctuations in performance, is equally important. \n",
        "\n",
        "In this project, you should investigate the following question:\n",
        "\n",
        "**What is the impact of number of neural network layers on speed and stability of the algorithm?**\n",
        "\n",
        "You do not have to write the DQN code from scratch. We have provided a basic implementation of the DQN algorithm. You only have to tune the hyperparameters (neural network size, learning rate, etc), observe the performance, and analyze. More details on this are provided below. \n",
        "\n",
        "Now, let us discuss the RL task we have chosen, i.e., Lunar Lander. This task consists of the lander and a landing pad marked by two flags. The episode starts with the lander moving downwards due to gravity. The objective is to land safely using different engines available on the lander with zero speed on the landing pad as quickly and fuel efficient as possible. Reward for moving from the top of the screen and landing on landing pad with zero speed is between 100 to 140 points. Each leg ground contact yields a reward of 10 points. Firing main engine leads to a reward of -0.3 points in each frame. Firing the side engine leads to a reward of -0.03 points in each frame. An additional reward of -100 or +100 points is received if the lander crashes or comes to rest respectively which also leads to end of the episode. \n",
        "\n",
        "The input state of the Lunar Lander consists of following components:\n",
        "\n",
        "  1. Horizontal Position\n",
        "  2. Vertical Position\n",
        "  3. Horizontal Velocity\n",
        "  4. Vertical Velocity\n",
        "  5. Angle\n",
        "  6. Angular Velocity\n",
        "  7. Left Leg Contact\n",
        "  8. Right Leg Contact\n",
        "\n",
        "The actions of the agents are:\n",
        "  1. Do Nothing\n",
        "  2. Fire Main Engine\n",
        "  3. Fire Left Engine\n",
        "  4. Fire Right Engine\n",
        "\n",
        "\n",
        "<img src=\"https://raw.githubusercontent.com/NeuromatchAcademy/course-content-dl/main/projects/static/lunar_lander.png\">"
      ]
    },
    {
      "cell_type": "markdown",
      "metadata": {
        "execution": {},
        "id": "mU_epArtxX_d"
      },
      "source": [
        "---\n",
        "# Basic DQN Implementation\n",
        "\n",
        "We will now implement the DQN algorithm using the existing code base. We encourage you to understand this example and re-use it in an application/project of your choice! "
      ]
    },
    {
      "cell_type": "markdown",
      "metadata": {
        "execution": {},
        "id": "0PinQS2CxX_d"
      },
      "source": [
        "Now, let us set some hyperparameters for our algorithm. This is the only part you would play around with, to solve the first part of the project. "
      ]
    },
    {
      "cell_type": "code",
      "execution_count": 26,
      "metadata": {
        "execution": {},
        "id": "RqpRNdCMxX_e"
      },
      "outputs": [],
      "source": [
        "nn_layers = [64,64] #This is the configuration of your neural network. Currently, we have two layers, each consisting of 64 neurons.\n",
        "                    #If you want three layers with 64 neurons each, set the value to [64,64,64] and so on.\n",
        "\n",
        "learning_rate = 0.001 #This is the step-size with which the gradient descent is carried out.\n",
        "                      #Tip: Use smaller step-sizes for larger networks."
      ]
    },
    {
      "cell_type": "code",
      "source": [
        "import pickle as pkl\n",
        "from google.colab import drive\n",
        "drive.mount('/content/gdrive')\n",
        "drive_path = \"/content/gdrive/My Drive/LunarLanding_models/\"\n"
      ],
      "metadata": {
        "id": "ruyg172GXaD3",
        "outputId": "a0d3220a-1dfa-45d9-c386-f154a4acc213",
        "colab": {
          "base_uri": "https://localhost:8080/"
        }
      },
      "execution_count": 27,
      "outputs": [
        {
          "output_type": "stream",
          "name": "stdout",
          "text": [
            "Drive already mounted at /content/gdrive; to attempt to forcibly remount, call drive.mount(\"/content/gdrive\", force_remount=True).\n"
          ]
        }
      ]
    },
    {
      "cell_type": "code",
      "source": [
        "def get_model_weights(model, model_name):\n",
        "  ''' This is a function to check the model weights. One can compare trained and untraind models' weights in this way.'''\n",
        "  \n",
        "\n",
        "  #print ('Sanity check. Comparing model weights for', model_names, models)\n",
        "  #for model, model_name in zip(models, model_names): \n",
        "  weight_dict = {}\n",
        "  keys = [item for item in model.policy.state_dict()]\n",
        "  for key in keys:\n",
        "    weight_dict[key] = torch.sum(model.policy.state_dict()[key])\n",
        "  return model_name, weight_dict"
      ],
      "metadata": {
        "id": "MKAZGipLY7jp"
      },
      "execution_count": 117,
      "outputs": []
    },
    {
      "cell_type": "code",
      "source": [
        "all_model_rewards = {}\n",
        "def save_rewards(model_version_num, model_comment):\n",
        "\n",
        "  '''\n",
        "  This is function to save model rewards thoroughout the training process.\n",
        "  '''\n",
        "\n",
        "  reward_dict = {}\n",
        "  model_version_num = 'DQN' + str(model_version_num)\n",
        "  x, y = ts2xy(load_results(log_dir), 'timesteps')  # Organising the logged results in to a clean format for plotting.\n",
        "  reward_dict = {'x': x, 'y' : y, 'comment': model_comment}\n",
        "  all_model_rewards[model_version_num] = reward_dict"
      ],
      "metadata": {
        "id": "MmD8xBgx885x"
      },
      "execution_count": 171,
      "outputs": []
    },
    {
      "cell_type": "code",
      "source": [
        "## Is it reasonable to compare the pretrained weights with the trained weights? \n",
        "\n",
        "def set_device():\n",
        "  \"\"\"\n",
        "  Set the device. CUDA if available, CPU otherwise\n",
        "\n",
        "  Args:\n",
        "    None\n",
        "\n",
        "  Returns:\n",
        "    Nothing\n",
        "  \"\"\"\n",
        "  device = \"cuda\" if torch.cuda.is_available() else \"cpu\"\n",
        "  if device != \"cuda\":\n",
        "    print(\"GPU is not enabled in this notebook. \\n\"\n",
        "          \"If you want to enable it, in the menu under `Runtime` -> \\n\"\n",
        "          \"`Hardware accelerator.` and select `GPU` from the dropdown menu\")\n",
        "  else:\n",
        "    print(\"GPU is enabled in this notebook. \\n\"\n",
        "          \"If you want to disable it, in the menu under `Runtime` -> \\n\"\n",
        "          \"`Hardware accelerator.` and select `None` from the dropdown menu\")\n",
        "\n",
        "  return device\n",
        "\n",
        "\n",
        "DEVICE = set_device()\n",
        "\n"
      ],
      "metadata": {
        "colab": {
          "base_uri": "https://localhost:8080/"
        },
        "id": "V9cqv3VmY-or",
        "outputId": "37f0bef9-b0bc-40cd-8979-45c7ff215a93"
      },
      "execution_count": 172,
      "outputs": [
        {
          "output_type": "stream",
          "name": "stdout",
          "text": [
            "GPU is not enabled in this notebook. \n",
            "If you want to enable it, in the menu under `Runtime` -> \n",
            "`Hardware accelerator.` and select `GPU` from the dropdown menu\n"
          ]
        }
      ]
    },
    {
      "cell_type": "markdown",
      "metadata": {
        "execution": {},
        "id": "HaCzlYg-xX_e"
      },
      "source": [
        "Now, let us setup our model and the DQN algorithm. "
      ]
    },
    {
      "cell_type": "code",
      "execution_count": 173,
      "metadata": {
        "execution": {},
        "id": "m5OGFaqcxX_e"
      },
      "outputs": [],
      "source": [
        "log_dir = \"/tmp/gym/\"\n",
        "os.makedirs(log_dir, exist_ok=True)\n",
        "\n",
        "# Create environment\n",
        "env = gym.make('LunarLander-v2')\n",
        "#You can also load other environments like cartpole, MountainCar, Acrobot. Refer to https://gym.openai.com/docs/ for descriptions.\n",
        "#For example, if you would like to load Cartpole, just replace the above statement with \"env = gym.make('CartPole-v1')\".\n",
        "\n",
        "env = stable_baselines3.common.monitor.Monitor(env, log_dir )\n",
        "\n",
        "callback = EvalCallback(env,log_path = log_dir, deterministic=True) #For evaluating the performance of the agent periodically and logging the results.\n",
        "policy_kwargs = dict(activation_fn=torch.nn.ReLU,\n",
        "                     net_arch=nn_layers)\n",
        "model = DQN(\"MlpPolicy\", env,policy_kwargs = policy_kwargs,\n",
        "            learning_rate=learning_rate,\n",
        "            batch_size=1,  #for simplicity, we are not doing batch update.\n",
        "            buffer_size=1, #size of experience of replay buffer. Set to 1 as batch update is not done\n",
        "            learning_starts=1, #learning starts immediately!\n",
        "            gamma=0.99, #discount facto. range is between 0 and 1.\n",
        "            tau = 1,  #the soft update coefficient for updating the target network\n",
        "            target_update_interval=1, #update the target network immediately.\n",
        "            train_freq=(1,\"step\"), #train the network at every step.\n",
        "            max_grad_norm = 10, #the maximum value for the gradient clipping\n",
        "            exploration_initial_eps = 1, #initial value of random action probability\n",
        "            exploration_fraction = 0.5, #fraction of entire training period over which the exploration rate is reduced\n",
        "            gradient_steps = 1, #number of gradient steps\n",
        "            seed = 1, #seed for the pseudo random generators\n",
        "            verbose=0) #Set verbose to 1 to observe training logs. We encourage you to set the verbose to 1.\n",
        "\n",
        "# You can also experiment with other RL algorithms like A2C, PPO, DDPG etc. Refer to  https://stable-baselines3.readthedocs.io/en/master/guide/examples.html\n",
        "#for documentation. For example, if you would like to run DDPG, just replace \"DQN\" above with \"DDPG\"."
      ]
    },
    {
      "cell_type": "code",
      "source": [
        " ## save untrained model weights to compare before training and after training weights\n",
        "untrained_model_weights = get_model_weights(model, 'untrained model')\n",
        "untrained_model_weights"
      ],
      "metadata": {
        "colab": {
          "base_uri": "https://localhost:8080/"
        },
        "id": "1L1hvx6yYqWa",
        "outputId": "b47dadce-3c22-440e-f770-9b5bf6142ed3"
      },
      "execution_count": 174,
      "outputs": [
        {
          "output_type": "execute_result",
          "data": {
            "text/plain": [
              "('untrained model',\n",
              " {'q_net.q_net.0.bias': tensor(-3.8614),\n",
              "  'q_net.q_net.0.weight': tensor(2.5560),\n",
              "  'q_net.q_net.2.bias': tensor(0.2273),\n",
              "  'q_net.q_net.2.weight': tensor(-7.8497),\n",
              "  'q_net.q_net.4.bias': tensor(-0.1196),\n",
              "  'q_net.q_net.4.weight': tensor(0.2720),\n",
              "  'q_net_target.q_net.0.bias': tensor(-3.8614),\n",
              "  'q_net_target.q_net.0.weight': tensor(2.5560),\n",
              "  'q_net_target.q_net.2.bias': tensor(0.2273),\n",
              "  'q_net_target.q_net.2.weight': tensor(-7.8497),\n",
              "  'q_net_target.q_net.4.bias': tensor(-0.1196),\n",
              "  'q_net_target.q_net.4.weight': tensor(0.2720)})"
            ]
          },
          "metadata": {},
          "execution_count": 174
        }
      ]
    },
    {
      "cell_type": "markdown",
      "source": [
        "### Saving the undtrained model\n",
        "\n"
      ],
      "metadata": {
        "id": "SYT7-FG0fBTp"
      }
    },
    {
      "cell_type": "code",
      "source": [
        "model_version = \"untrained_DQN\"\n",
        "model.save(drive_path + model_version)"
      ],
      "metadata": {
        "id": "xph7iZ-SeiXH"
      },
      "execution_count": 175,
      "outputs": []
    },
    {
      "cell_type": "code",
      "source": [
        "#print (model, '\\n', untrained_model)"
      ],
      "metadata": {
        "id": "fUvOtD1pJrfS"
      },
      "execution_count": 176,
      "outputs": []
    },
    {
      "cell_type": "code",
      "source": [
        "#untrained_model.policy.state_dict()\n",
        "#model.policy.state_dict()"
      ],
      "metadata": {
        "id": "C4uz72Zjap0v"
      },
      "execution_count": 177,
      "outputs": []
    },
    {
      "cell_type": "markdown",
      "metadata": {
        "execution": {},
        "id": "HojzbSG1xX_e"
      },
      "source": [
        "Before we train the model, let us look at an instance of Lunar Lander **before training**.  \n",
        "\n",
        "**Note:** The following code for rendering the video is taken from https://colab.research.google.com/github/jeffheaton/t81_558_deep_learning/blob/master/t81_558_class_12_01_ai_gym.ipynb#scrollTo=T9RpF49oOsZj"
      ]
    },
    {
      "cell_type": "code",
      "execution_count": null,
      "metadata": {
        "execution": {},
        "id": "bbE6asJGxX_f"
      },
      "outputs": [],
      "source": [
        "test_env = wrap_env(gym.make(\"LunarLander-v2\"))\n",
        "observation = test_env.reset()\n",
        "total_reward = 0\n",
        "while True:\n",
        "  test_env.render()\n",
        "  action, states = model.predict(observation, deterministic=True)\n",
        "  observation, reward, done, info = test_env.step(action)\n",
        "  total_reward += reward\n",
        "  if done:\n",
        "    break;\n",
        "\n",
        "# print(total_reward)\n",
        "test_env.close()\n",
        "show_video()"
      ]
    },
    {
      "cell_type": "code",
      "source": [
        "#model.get_pretrain_placeholders()"
      ],
      "metadata": {
        "id": "-Vhs6twAgcQt"
      },
      "execution_count": null,
      "outputs": []
    },
    {
      "cell_type": "markdown",
      "metadata": {
        "execution": {},
        "id": "LAyOXncPxX_f"
      },
      "source": [
        "From the video above, we see that the lander has crashed! \n",
        "It is now the time for training! \n"
      ]
    },
    {
      "cell_type": "code",
      "source": [
        ""
      ],
      "metadata": {
        "id": "fsSwxM797uPO"
      },
      "execution_count": 114,
      "outputs": []
    },
    {
      "cell_type": "code",
      "execution_count": 142,
      "metadata": {
        "execution": {},
        "id": "CeQmEI1dxX_g"
      },
      "outputs": [],
      "source": [
        "#model.learn(total_timesteps=30000, log_interval=10, callback=callback)\n",
        "# The performance of the training will be printed every 10 episodes. Change it to 1, if you wish to\n",
        "# view the performance at every training episode.\n",
        "\n",
        "save_rewards(2, 'trained_from_scratch')"
      ]
    },
    {
      "cell_type": "code",
      "source": [
        "all_model_rewards.keys()"
      ],
      "metadata": {
        "colab": {
          "base_uri": "https://localhost:8080/"
        },
        "id": "qnJ05h1fAbGb",
        "outputId": "2eb1a149-6199-4688-ac1f-64a136ba1d83"
      },
      "execution_count": 144,
      "outputs": [
        {
          "output_type": "execute_result",
          "data": {
            "text/plain": [
              "dict_keys(['DQN1', 'DQN2'])"
            ]
          },
          "metadata": {},
          "execution_count": 144
        }
      ]
    },
    {
      "cell_type": "code",
      "source": [
        "trained_model_weights = get_model_weights(model, 'trained_model')"
      ],
      "metadata": {
        "id": "Df1X32nCEBEs"
      },
      "execution_count": 145,
      "outputs": []
    },
    {
      "cell_type": "code",
      "source": [
        "## Here we can compare the change in the model weights"
      ],
      "metadata": {
        "id": "pAKMNTHLb8JG"
      },
      "execution_count": 146,
      "outputs": []
    },
    {
      "cell_type": "code",
      "source": [
        "untrained_model_weights, trained_model_weights"
      ],
      "metadata": {
        "id": "EVbpk3ZUbye5",
        "colab": {
          "base_uri": "https://localhost:8080/"
        },
        "outputId": "ec7ecbe3-0947-4d1f-e3b3-b801fc799486"
      },
      "execution_count": 147,
      "outputs": [
        {
          "output_type": "execute_result",
          "data": {
            "text/plain": [
              "(('untrained model',\n",
              "  {'q_net.q_net.0.bias': tensor(-3.8614),\n",
              "   'q_net.q_net.0.weight': tensor(2.5560),\n",
              "   'q_net.q_net.2.bias': tensor(0.2273),\n",
              "   'q_net.q_net.2.weight': tensor(-7.8497),\n",
              "   'q_net.q_net.4.bias': tensor(-0.1196),\n",
              "   'q_net.q_net.4.weight': tensor(0.2720),\n",
              "   'q_net_target.q_net.0.bias': tensor(-3.8614),\n",
              "   'q_net_target.q_net.0.weight': tensor(2.5560),\n",
              "   'q_net_target.q_net.2.bias': tensor(0.2273),\n",
              "   'q_net_target.q_net.2.weight': tensor(-7.8497),\n",
              "   'q_net_target.q_net.4.bias': tensor(-0.1196),\n",
              "   'q_net_target.q_net.4.weight': tensor(0.2720)}),\n",
              " ('trained_model',\n",
              "  {'q_net.q_net.0.bias': tensor(9.6303),\n",
              "   'q_net.q_net.0.weight': tensor(-3.3851),\n",
              "   'q_net.q_net.2.bias': tensor(1.2399),\n",
              "   'q_net.q_net.2.weight': tensor(15.6017),\n",
              "   'q_net.q_net.4.bias': tensor(0.4984),\n",
              "   'q_net.q_net.4.weight': tensor(29.9643),\n",
              "   'q_net_target.q_net.0.bias': tensor(9.6340),\n",
              "   'q_net_target.q_net.0.weight': tensor(-3.3953),\n",
              "   'q_net_target.q_net.2.bias': tensor(1.2446),\n",
              "   'q_net_target.q_net.2.weight': tensor(15.7548),\n",
              "   'q_net_target.q_net.4.bias': tensor(0.4988),\n",
              "   'q_net_target.q_net.4.weight': tensor(29.9719)}))"
            ]
          },
          "metadata": {},
          "execution_count": 147
        }
      ]
    },
    {
      "cell_type": "markdown",
      "source": [
        "# Savig and loading the model\n",
        "How to save to google drive: https://colab.research.google.com/drive/1CN7JxLA_Qk1Clc4CM75rSAqIlUKIF8xZ#scrollTo=T_tDc-oMEY22\n",
        "\n",
        "You can chack the saved models' directory here: https://drive.google.com/drive/folders/1ctYdReK3WwH-qxuusyKZAeM7iYfU9C04"
      ],
      "metadata": {
        "id": "gmtIx2TL6orI"
      }
    },
    {
      "cell_type": "markdown",
      "source": [
        "### Save to model to google drive "
      ],
      "metadata": {
        "id": "qSXccZCM7pvb"
      }
    },
    {
      "cell_type": "code",
      "source": [
        "model_version = \"DQN_model_1\"\n",
        "model.save(drive_path + model_version)"
      ],
      "metadata": {
        "id": "jGuyCjnC6njL"
      },
      "execution_count": 148,
      "outputs": []
    },
    {
      "cell_type": "markdown",
      "source": [
        "NB!!! load function re-creates model from scratch on each call, which can be slow. If you need to e.g. evaluate same model with multiple different sets of parameters, consider using load_parameters instead."
      ],
      "metadata": {
        "id": "FoFxAvdLFWyy"
      }
    },
    {
      "cell_type": "code",
      "source": [
        "env = gym.make('LunarLander-v2') ## I'm not quite sure why these coods needed but without it raise an error. \n",
        "env.reset()\n",
        "model2 = DQN.load(drive_path + model_version, env = env)\n",
        "#model2_pretraining = model2"
      ],
      "metadata": {
        "id": "W2rKLqos_bOe"
      },
      "execution_count": 149,
      "outputs": []
    },
    {
      "cell_type": "code",
      "source": [
        "'''\n",
        "env = gym.make('LunarLander-v2') ## I'm not quite sure why these coods needed but without it raise an error. \n",
        "env.reset()\n",
        "sherry_drive = 'https://drive.google.com/drive/folders/1-4u7S8Y4iU9B1WcTuf5fTIPfxC0170iP/'\n",
        "sherry_model = 'dqn_1.pth'\n",
        "model3 = DQN.load(sherry_drive + sherry_model, env = env)\n",
        "'''"
      ],
      "metadata": {
        "colab": {
          "base_uri": "https://localhost:8080/",
          "height": 54
        },
        "id": "EJx63TTgnBgE",
        "outputId": "c1dba425-54c4-4f76-d0b7-1606fa412c08"
      },
      "execution_count": 150,
      "outputs": [
        {
          "output_type": "execute_result",
          "data": {
            "text/plain": [
              "\"\\nenv = gym.make('LunarLander-v2') ## I'm not quite sure why these coods needed but without it raise an error. \\nenv.reset()\\nsherry_drive = 'https://drive.google.com/drive/folders/1-4u7S8Y4iU9B1WcTuf5fTIPfxC0170iP/'\\nsherry_model = 'dqn_1.pth'\\nmodel3 = DQN.load(sherry_drive + sherry_model, env = env)\\n\""
            ],
            "application/vnd.google.colaboratory.intrinsic+json": {
              "type": "string"
            }
          },
          "metadata": {},
          "execution_count": 150
        }
      ]
    },
    {
      "cell_type": "markdown",
      "source": [
        "### Compare the saved and untrained models' weights"
      ],
      "metadata": {
        "id": "mpzrpT268jvp"
      }
    },
    {
      "cell_type": "code",
      "source": [
        "reloaded_model_weights = get_model_weights(model2, 'reloaded model')"
      ],
      "metadata": {
        "id": "s54-cKP-b08g"
      },
      "execution_count": 151,
      "outputs": []
    },
    {
      "cell_type": "code",
      "source": [
        "#untrained_model_weights, trained_model_weights, reloaded_model_weights"
      ],
      "metadata": {
        "id": "PLUvjCyVde0Z"
      },
      "execution_count": 153,
      "outputs": []
    },
    {
      "cell_type": "code",
      "source": [
        "## As expected weights for the first model (untrained) much smaller than weights for the trained model."
      ],
      "metadata": {
        "id": "SG3WCxLLQLCb"
      },
      "execution_count": 53,
      "outputs": []
    },
    {
      "cell_type": "code",
      "source": [
        ""
      ],
      "metadata": {
        "id": "ZF-97O_jBIz2"
      },
      "execution_count": null,
      "outputs": []
    },
    {
      "cell_type": "markdown",
      "source": [
        "There are some cuda issues here ... "
      ],
      "metadata": {
        "id": "LiylBGTKBJcw"
      }
    },
    {
      "cell_type": "code",
      "source": [
        "#for k in model2.policy.state_dict().keys():\n",
        "\n",
        "#  model2.policy.state_dict()[k].cuda()\n",
        "#print ( model2.policy.state_dict()[k])"
      ],
      "metadata": {
        "id": "eTcNmEqY3u64"
      },
      "execution_count": 154,
      "outputs": []
    },
    {
      "cell_type": "code",
      "source": [
        ""
      ],
      "metadata": {
        "id": "gJwiGtrg4-8a"
      },
      "execution_count": 154,
      "outputs": []
    },
    {
      "cell_type": "code",
      "source": [
        "# The model should be loaded to the GPU... \n",
        "#model2.learn(total_timesteps=20000, log_interval=10, callback=callback)\n",
        "save_rewards(2, 'trained_twice')"
      ],
      "metadata": {
        "id": "2c7CoyjSYvyu"
      },
      "execution_count": 156,
      "outputs": []
    },
    {
      "cell_type": "code",
      "source": [
        "all_model_rewards.keys()"
      ],
      "metadata": {
        "colab": {
          "base_uri": "https://localhost:8080/"
        },
        "id": "m0nWFN_IBUFS",
        "outputId": "b2fb3fe5-1da4-4e11-8ffe-e93f6c2c14de"
      },
      "execution_count": 158,
      "outputs": [
        {
          "output_type": "execute_result",
          "data": {
            "text/plain": [
              "dict_keys(['DQN1', 'DQN2'])"
            ]
          },
          "metadata": {},
          "execution_count": 158
        }
      ]
    },
    {
      "cell_type": "markdown",
      "source": [
        "## Saving the twice trained model"
      ],
      "metadata": {
        "id": "IZDFyd_nsEev"
      }
    },
    {
      "cell_type": "code",
      "source": [
        "model_version = \"twice_trained_model\"\n",
        "model2.save(drive_path + model_version)"
      ],
      "metadata": {
        "id": "l0hxC1rGsCgr"
      },
      "execution_count": 129,
      "outputs": []
    },
    {
      "cell_type": "code",
      "source": [
        "twice_trained_model_weights = get_model_weights(model2, 'twice trained model')"
      ],
      "metadata": {
        "id": "WubbYGspaZh9"
      },
      "execution_count": 130,
      "outputs": []
    },
    {
      "cell_type": "code",
      "source": [
        "untrained_model_weights, trained_model_weights, twice_trained_model_weights"
      ],
      "metadata": {
        "id": "CxZ9IlUrltaz",
        "colab": {
          "base_uri": "https://localhost:8080/"
        },
        "outputId": "c95cb4c3-5f80-43b8-a1c6-c1357bd5c0dc"
      },
      "execution_count": 169,
      "outputs": [
        {
          "output_type": "execute_result",
          "data": {
            "text/plain": [
              "(('untrained model',\n",
              "  {'q_net.q_net.0.bias': tensor(-3.8614),\n",
              "   'q_net.q_net.0.weight': tensor(2.5560),\n",
              "   'q_net.q_net.2.bias': tensor(0.2273),\n",
              "   'q_net.q_net.2.weight': tensor(-7.8497),\n",
              "   'q_net.q_net.4.bias': tensor(-0.1196),\n",
              "   'q_net.q_net.4.weight': tensor(0.2720),\n",
              "   'q_net_target.q_net.0.bias': tensor(-3.8614),\n",
              "   'q_net_target.q_net.0.weight': tensor(2.5560),\n",
              "   'q_net_target.q_net.2.bias': tensor(0.2273),\n",
              "   'q_net_target.q_net.2.weight': tensor(-7.8497),\n",
              "   'q_net_target.q_net.4.bias': tensor(-0.1196),\n",
              "   'q_net_target.q_net.4.weight': tensor(0.2720)}),\n",
              " ('trained_model',\n",
              "  {'q_net.q_net.0.bias': tensor(9.6303),\n",
              "   'q_net.q_net.0.weight': tensor(-3.3851),\n",
              "   'q_net.q_net.2.bias': tensor(1.2399),\n",
              "   'q_net.q_net.2.weight': tensor(15.6017),\n",
              "   'q_net.q_net.4.bias': tensor(0.4984),\n",
              "   'q_net.q_net.4.weight': tensor(29.9643),\n",
              "   'q_net_target.q_net.0.bias': tensor(9.6340),\n",
              "   'q_net_target.q_net.0.weight': tensor(-3.3953),\n",
              "   'q_net_target.q_net.2.bias': tensor(1.2446),\n",
              "   'q_net_target.q_net.2.weight': tensor(15.7548),\n",
              "   'q_net_target.q_net.4.bias': tensor(0.4988),\n",
              "   'q_net_target.q_net.4.weight': tensor(29.9719)}),\n",
              " ('twice trained model',\n",
              "  {'q_net.q_net.0.bias': tensor(9.4075),\n",
              "   'q_net.q_net.0.weight': tensor(-9.5715),\n",
              "   'q_net.q_net.2.bias': tensor(0.9903),\n",
              "   'q_net.q_net.2.weight': tensor(-12.0113),\n",
              "   'q_net.q_net.4.bias': tensor(0.4457),\n",
              "   'q_net.q_net.4.weight': tensor(29.8608),\n",
              "   'q_net_target.q_net.0.bias': tensor(9.4155),\n",
              "   'q_net_target.q_net.0.weight': tensor(-9.5828),\n",
              "   'q_net_target.q_net.2.bias': tensor(0.9965),\n",
              "   'q_net_target.q_net.2.weight': tensor(-11.7931),\n",
              "   'q_net_target.q_net.4.bias': tensor(0.4466),\n",
              "   'q_net_target.q_net.4.weight': tensor(29.8734)}))"
            ]
          },
          "metadata": {},
          "execution_count": 169
        }
      ]
    },
    {
      "cell_type": "markdown",
      "source": [
        "# Check out the model parameters for saving "
      ],
      "metadata": {
        "id": "vFxbjPFQnnt3"
      }
    },
    {
      "cell_type": "markdown",
      "source": [
        "### We have qite a strange model architecture... Aren't we?? \n",
        "\n",
        "We have two set of network parameters... a q_net, and a q_net_target. \n",
        "We also have numbered layers but it goes as 0,2, 4... Where is 1 and 2??? "
      ],
      "metadata": {
        "id": "i_4FHC-iqwVo"
      }
    },
    {
      "cell_type": "code",
      "source": [
        "model.policy.state_dict().keys()\n",
        "[item for item in model.policy.state_dict().keys()]"
      ],
      "metadata": {
        "id": "y4IxQozrqa9b",
        "colab": {
          "base_uri": "https://localhost:8080/"
        },
        "outputId": "04a3d65b-ce0d-423f-ce79-61cd0b71ee2b"
      },
      "execution_count": 66,
      "outputs": [
        {
          "output_type": "execute_result",
          "data": {
            "text/plain": [
              "['q_net.q_net.0.weight',\n",
              " 'q_net.q_net.0.bias',\n",
              " 'q_net.q_net.2.weight',\n",
              " 'q_net.q_net.2.bias',\n",
              " 'q_net.q_net.4.weight',\n",
              " 'q_net.q_net.4.bias',\n",
              " 'q_net_target.q_net.0.weight',\n",
              " 'q_net_target.q_net.0.bias',\n",
              " 'q_net_target.q_net.2.weight',\n",
              " 'q_net_target.q_net.2.bias',\n",
              " 'q_net_target.q_net.4.weight',\n",
              " 'q_net_target.q_net.4.bias']"
            ]
          },
          "metadata": {},
          "execution_count": 66
        }
      ]
    },
    {
      "cell_type": "markdown",
      "source": [
        "## q_net and q_net_target have the same shapes"
      ],
      "metadata": {
        "id": "lKLAV9qduRhX"
      }
    },
    {
      "cell_type": "code",
      "source": [
        "[model.policy.state_dict()['q_net.q_net.'+str(item)+'.weight'].shape for item in [0, 2, 4 ]]"
      ],
      "metadata": {
        "id": "HwiyFBybqcyv",
        "colab": {
          "base_uri": "https://localhost:8080/"
        },
        "outputId": "0cf61b9f-112f-4ef8-f592-677a812c877a"
      },
      "execution_count": 67,
      "outputs": [
        {
          "output_type": "execute_result",
          "data": {
            "text/plain": [
              "[torch.Size([64, 8]), torch.Size([64, 64]), torch.Size([4, 64])]"
            ]
          },
          "metadata": {},
          "execution_count": 67
        }
      ]
    },
    {
      "cell_type": "code",
      "source": [
        "[model.policy.state_dict()['q_net_target.q_net.'+str(item)+'.weight'].shape for item in [0, 2, 4 ]]"
      ],
      "metadata": {
        "id": "2TGJHq9lupxf",
        "colab": {
          "base_uri": "https://localhost:8080/"
        },
        "outputId": "8e71979f-e7b1-4ca9-c897-0302f42cd917"
      },
      "execution_count": 68,
      "outputs": [
        {
          "output_type": "execute_result",
          "data": {
            "text/plain": [
              "[torch.Size([64, 8]), torch.Size([64, 64]), torch.Size([4, 64])]"
            ]
          },
          "metadata": {},
          "execution_count": 68
        }
      ]
    },
    {
      "cell_type": "markdown",
      "source": [
        "## Customizing weights"
      ],
      "metadata": {
        "id": "RIcgVZIJvvEZ"
      }
    },
    {
      "cell_type": "code",
      "source": [
        "model_weights = model.policy.state_dict()\n",
        "model_weights['q_net.q_net.2.weight'] = torch.zeros(64,64)\n",
        "#model_weights['q_net.q_net.2.weight']"
      ],
      "metadata": {
        "id": "19c37bSSgBkg"
      },
      "execution_count": 78,
      "outputs": []
    },
    {
      "cell_type": "markdown",
      "source": [
        "## Comparing rewards"
      ],
      "metadata": {
        "id": "vmbrvrSdykhy"
      }
    },
    {
      "cell_type": "code",
      "source": [
        "[item.keys() for item in all_model_rewards]"
      ],
      "metadata": {
        "colab": {
          "base_uri": "https://localhost:8080/"
        },
        "id": "dBLLAgIjxwnR",
        "outputId": "54985bfc-d82a-4ab0-e362-fac66d280f8a"
      },
      "execution_count": 134,
      "outputs": [
        {
          "output_type": "execute_result",
          "data": {
            "text/plain": [
              "[dict_keys(['DQN1']), dict_keys(['DQN2'])]"
            ]
          },
          "metadata": {},
          "execution_count": 134
        }
      ]
    },
    {
      "cell_type": "code",
      "source": [
        "all_model_rewards.keys()"
      ],
      "metadata": {
        "id": "fzOYMFwCh4CT",
        "colab": {
          "base_uri": "https://localhost:8080/"
        },
        "outputId": "7c00bdf1-8790-45c7-bd04-b52a7deecd16"
      },
      "execution_count": 159,
      "outputs": [
        {
          "output_type": "execute_result",
          "data": {
            "text/plain": [
              "dict_keys(['DQN1', 'DQN2'])"
            ]
          },
          "metadata": {},
          "execution_count": 159
        }
      ]
    },
    {
      "cell_type": "code",
      "source": [
        "all_model_rewards['DQN2']['x']"
      ],
      "metadata": {
        "colab": {
          "base_uri": "https://localhost:8080/"
        },
        "id": "jzDMYzLjDN2a",
        "outputId": "10a49729-9eec-43e3-93f4-076f9dde7a1d"
      },
      "execution_count": 170,
      "outputs": [
        {
          "output_type": "execute_result",
          "data": {
            "text/plain": [
              "array([    67,    154,    225,    332,    431,    522,    593,    686,\n",
              "          785,    845,    969,   1053,   1125,   1255,   1359,   1469,\n",
              "         1548,   1647,   1755,   1852,   1933,   2034,   2132,   2192,\n",
              "         2256,   2343,   2447,   2529,   2611,   2731,   2819,   2893,\n",
              "         2973,   3067,   3189,   3284,   3391,   3469,   3535,   3606,\n",
              "         3719,   3782,   3869,   3962,   4039,   4146,   4257,   4335,\n",
              "         4450,   4573,   4699,   4795,   4901,   5008,   5072,   5159,\n",
              "         5226,   5348,   5505,   5618,   5710,   5813,   5919,   5995,\n",
              "         6117,   6179,   6257,   6413,   6478,   6577,   6677,   6817,\n",
              "         6888,   6990,   7112,   7172,   7274,   7397,   7477,   7586,\n",
              "         7718,   7787,   7944,   8020,   8120,   8328,   8468,   8602,\n",
              "         8710,   8814,   9156,   9346,   9479,   9630,   9785,   9913,\n",
              "         9995,  10170,  10451,  10548,  10628,  10934,  10995,  11102,\n",
              "        11187,  11258,  11375,  11486,  11612,  11780,  11964,  12164,\n",
              "        13164,  13291,  13372,  13453,  13712,  14147,  14520,  14615,\n",
              "        14905,  15344,  16344,  17344,  18178,  19178,  20178,  21178,\n",
              "        21770,  22711,  23309,  23607,  24607,  24779,  24867,  24920,\n",
              "        24998,  25058,  25139,  25314,  26314,  27314,  28314,  28675,\n",
              "        28836,  28908,  29114,  29861,  30110,  30412,  30523,  31523,\n",
              "        32062,  33062,  34043,  35043,  36033,  36932,  37712,  38712,\n",
              "        39712,  40712,  41712,  42712,  43712,  44712,  45712,  46712,\n",
              "        47712,  47829,  47948,  48010,  48076,  48157,  48242,  48343,\n",
              "        48430,  48530,  48616,  48730,  48813,  48877,  48953,  49047,\n",
              "        49126,  49240,  49314,  49421,  49498,  49573,  49687,  49764,\n",
              "        49824,  49920,  50017,  50085,  50165,  50235,  50307,  50392,\n",
              "        50473,  50561,  50630,  50709,  50799,  50893,  50963,  51042,\n",
              "        51109,  51181,  51259,  51331,  51428,  51520,  51581,  51685,\n",
              "        51851,  51975,  52059,  52157,  52233,  52306,  52409,  52481,\n",
              "        52570,  52677,  52823,  52954,  53068,  53133,  53198,  53339,\n",
              "        53456,  53540,  53638,  53709,  53818,  53921,  54026,  54100,\n",
              "        54168,  54269,  54349,  54438,  54527,  54642,  54703,  54782,\n",
              "        54913,  55019,  55128,  55248,  55367,  55446,  55513,  55624,\n",
              "        55694,  55790,  55889,  55955,  56039,  56169,  56262,  56379,\n",
              "        56507,  56582,  56736,  56883,  57003,  57064,  57167,  57315,\n",
              "        57439,  57524,  57640,  57756,  57905,  58050,  58185,  58321,\n",
              "        58413,  58488,  58627,  58731,  58812,  58931,  59000,  59098,\n",
              "        60098,  60230,  60345,  60417,  60497,  60733,  60821,  60908,\n",
              "        61003,  61072,  61164,  61254,  61437,  61538,  61628,  61887,\n",
              "        62031,  62232,  62519,  62620,  62732,  62906,  63070,  63166,\n",
              "        63286,  63412,  63531,  63620,  63715,  63910,  64670,  64840,\n",
              "        64987,  65070,  65151,  65220,  65368,  65494,  65659,  65839,\n",
              "        66004,  66119,  66373,  66854,  67017,  67783,  67949,  68116,\n",
              "        68583,  68943,  69436,  69830,  70182,  70463,  70647,  71111,\n",
              "        71311,  71483,  71833,  72454,  72672,  72851,  73058,  73292,\n",
              "        74284,  75208,  76208,  77208,  77552,  77637,  77696,  77762,\n",
              "        78144,  78454,  78515,  78807,  79104,  79228,  79534,  79808,\n",
              "        80134,  81024,  82024,  82362,  83362,  84362,  84754,  84906,\n",
              "        85132,  85708,  85879,  86335,  87335,  88157,  88417,  88519,\n",
              "        88777,  88953,  89028,  89132,  89215,  89491,  89888,  90047,\n",
              "        90244,  90409,  91409,  92409,  93409,  94409,  95409,  95754,\n",
              "        95940,  96143,  96347,  96670,  97670,  98670,  99598, 100561,\n",
              "       101561])"
            ]
          },
          "metadata": {},
          "execution_count": 170
        }
      ]
    },
    {
      "cell_type": "code",
      "source": [
        "DQN1_x = all_model_rewards['DQN1']['x']\n",
        "DQN1_y = all_model_rewards['DQN1']['y']\n",
        "DQN2_x = all_model_rewards['DQN2']['x']\n",
        "DQN2_y = all_model_rewards['DQN2']['y']\n",
        "\n",
        "\n",
        "plt.plot(DQN1_x,DQN1_y)\n",
        "#plt.plot(DQN2_x,DQN2_y)\n",
        "plt.ylim([-300, 300])\n",
        "plt.xlabel('Timesteps')\n",
        "plt.ylabel('Episode Rewards')"
      ],
      "metadata": {
        "colab": {
          "base_uri": "https://localhost:8080/",
          "height": 300
        },
        "id": "Gr3Lw-HQx2LJ",
        "outputId": "7b3aaa8a-41d9-4099-803f-23f4342af657"
      },
      "execution_count": 168,
      "outputs": [
        {
          "output_type": "execute_result",
          "data": {
            "text/plain": [
              "Text(0, 0.5, 'Episode Rewards')"
            ]
          },
          "metadata": {},
          "execution_count": 168
        },
        {
          "output_type": "display_data",
          "data": {
            "text/plain": [
              "<Figure size 432x288 with 1 Axes>"
            ],
            "image/png": "[encoded data removed]"
          },
          "metadata": {
            "needs_background": "light"
          }
        }
      ]
    },
    {
      "cell_type": "code",
      "source": [
        ""
      ],
      "metadata": {
        "id": "1DO8z_1Jh74v"
      },
      "execution_count": null,
      "outputs": []
    },
    {
      "cell_type": "code",
      "source": [
        "## Useful sources \n",
        "# https://www.analyticsvidhya.com/blog/2021/05/a-complete-hands-on-guide-to-train-your-neural-network-model-on-google-colab-gpu/\n",
        "# https://pytorch.org/tutorials/recipes/recipes/save_load_across_devices.html"
      ],
      "metadata": {
        "id": "iTymvIWs_eBO"
      },
      "execution_count": null,
      "outputs": []
    },
    {
      "cell_type": "code",
      "source": [
        ""
      ],
      "metadata": {
        "id": "pXWV6dhx2gIA"
      },
      "execution_count": null,
      "outputs": []
    },
    {
      "cell_type": "code",
      "source": [
        ""
      ],
      "metadata": {
        "id": "3MVWTpHGC7zf"
      },
      "execution_count": null,
      "outputs": []
    },
    {
      "cell_type": "code",
      "source": [
        ""
      ],
      "metadata": {
        "id": "DpxeA8i9C9KW"
      },
      "execution_count": null,
      "outputs": []
    },
    {
      "cell_type": "code",
      "source": [
        ""
      ],
      "metadata": {
        "id": "WZcZDPEgC87s"
      },
      "execution_count": null,
      "outputs": []
    },
    {
      "cell_type": "code",
      "source": [
        "#def get_default_device():\n",
        "#    \"\"\"Picking GPU if available or else CPU\"\"\"\n",
        "#    if torch.cuda.is_available():\n",
        "#        return torch.device('cuda')\n",
        "#    else:\n",
        "#        return torch.device('cpu')\n",
        "\n",
        "\n",
        "\n",
        "#device = get_default_device()\n",
        "#device"
      ],
      "metadata": {
        "id": "a1MxLssM9uSS"
      },
      "execution_count": null,
      "outputs": []
    },
    {
      "cell_type": "code",
      "source": [
        ""
      ],
      "metadata": {
        "id": "bnjqiSgcNsSl"
      },
      "execution_count": null,
      "outputs": []
    },
    {
      "cell_type": "code",
      "source": [
        ""
      ],
      "metadata": {
        "id": "W1OrpkQLbQRS"
      },
      "execution_count": 78,
      "outputs": []
    },
    {
      "cell_type": "code",
      "source": [
        ""
      ],
      "metadata": {
        "id": "ImlkaDMbbQGH"
      },
      "execution_count": 78,
      "outputs": []
    },
    {
      "cell_type": "code",
      "source": [
        ""
      ],
      "metadata": {
        "id": "mgb0FzgQbP49"
      },
      "execution_count": 78,
      "outputs": []
    },
    {
      "cell_type": "code",
      "source": [
        ""
      ],
      "metadata": {
        "id": "wSn8FySwI35e"
      },
      "execution_count": 78,
      "outputs": []
    },
    {
      "cell_type": "markdown",
      "metadata": {
        "execution": {},
        "id": "ZjxOTq4LxX_g"
      },
      "source": [
        "The training takes time. We encourage you to analyze the output logs (set verbose to 1 to print the output logs). The main component of the logs that you should track is \"ep_rew_mean\" (mean of episode rewards). As the training proceeds, the value of \"ep_rew_mean\" should increase. The improvement need not be monotonic, but the trend should be upwards! \n",
        "\n",
        "Along with training, we are also periodically evaluating the performance of the current model during the training. This was reported in logs as follows:\n",
        "\n",
        "```\n",
        "Eval num_timesteps=100000, episode_reward=63.41 +/- 130.02\n",
        "Episode length: 259.80 +/- 47.47\n",
        "```"
      ]
    },
    {
      "cell_type": "markdown",
      "metadata": {
        "execution": {},
        "id": "SrFuUfrKxX_g"
      },
      "source": [
        "Now, let us look at the visual performance of the lander. \n",
        "\n",
        "**Note:** The performance varies across different seeds and runs. This code is not optimized to be stable across all runs and seeds. We hope you will be able to find an optimal configuration! "
      ]
    },
    {
      "cell_type": "code",
      "execution_count": 79,
      "metadata": {
        "execution": {},
        "id": "E3tB4vr8xX_g",
        "colab": {
          "base_uri": "https://localhost:8080/",
          "height": 421
        },
        "outputId": "fe0fc649-5403-4136-a9a5-5c2fb96e290c"
      },
      "outputs": [
        {
          "output_type": "display_data",
          "data": {
            "text/plain": [
              "<IPython.core.display.HTML object>"
            ],
            "text/html": [
              "<video alt=\"test\" autoplay\n",
              "                loop controls style=\"height: 400px;\">\n",
              "                <source src=\"data:video/mp4;base64,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\" type=\"video/mp4\" />\n",
              "             </video>"
            ]
          },
          "metadata": {}
        }
      ],
      "source": [
        "env = wrap_env(gym.make(\"LunarLander-v2\"))\n",
        "observation = env.reset()\n",
        "while True:\n",
        "  env.render()\n",
        "  action, _states = model.predict(observation, deterministic=True)\n",
        "  observation, reward, done, info = env.step(action)\n",
        "  if done:\n",
        "    break;\n",
        "\n",
        "env.close()\n",
        "show_video()"
      ]
    },
    {
      "cell_type": "markdown",
      "metadata": {
        "execution": {},
        "id": "BHP2XmSwxX_h"
      },
      "source": [
        "The lander has landed safely!!\n",
        "\n",
        "Let us analyze its performance (speed and stability). For this purpose, we plot the number of time steps on the X-axis and the episodic reward given by the trained model on the Y-axis. "
      ]
    },
    {
      "cell_type": "code",
      "execution_count": 80,
      "metadata": {
        "execution": {},
        "id": "qK7N3LOrxX_h",
        "colab": {
          "base_uri": "https://localhost:8080/",
          "height": 300
        },
        "outputId": "f1a39941-06a7-4df3-a202-2fa50c6a4f6b"
      },
      "outputs": [
        {
          "output_type": "execute_result",
          "data": {
            "text/plain": [
              "Text(0, 0.5, 'Episode Rewards')"
            ]
          },
          "metadata": {},
          "execution_count": 80
        },
        {
          "output_type": "display_data",
          "data": {
            "text/plain": [
              "<Figure size 432x288 with 1 Axes>"
            ],
            "image/png": "[encoded data removed]"
          },
          "metadata": {
            "needs_background": "light"
          }
        }
      ],
      "source": [
        "x, y = ts2xy(load_results(log_dir), 'timesteps')  # Organising the logged results in to a clean format for plotting.\n",
        "plt.plot(x,y)\n",
        "plt.ylim([-300, 300])\n",
        "plt.xlabel('Timesteps')\n",
        "plt.ylabel('Episode Rewards')"
      ]
    },
    {
      "cell_type": "code",
      "source": [
        "x, y = ts2xy(load_results(log_dir), 'timesteps')"
      ],
      "metadata": {
        "id": "_ECtFVzNzI-C"
      },
      "execution_count": 82,
      "outputs": []
    },
    {
      "cell_type": "code",
      "source": [
        "y"
      ],
      "metadata": {
        "colab": {
          "base_uri": "https://localhost:8080/"
        },
        "id": "oi2aM3BYzIwu",
        "outputId": "869279ac-1af7-4feb-a14e-0b211d33e0ba"
      },
      "execution_count": 84,
      "outputs": [
        {
          "output_type": "execute_result",
          "data": {
            "text/plain": [
              "array([-1.41062749e+02, -6.86189210e+01, -2.41818445e+02, -3.45804956e+02,\n",
              "       -1.13440086e+02, -2.95256335e+02, -8.07156480e+01, -1.32874155e+02,\n",
              "       -1.54480433e+02, -1.51194840e+01, -1.75373505e+02, -8.40793570e+01,\n",
              "       -1.33306484e+02, -2.73347135e+02, -1.58096590e+02, -2.69186714e+02,\n",
              "       -4.80050239e+02, -1.17199604e+02, -9.78170810e+01, -3.06315017e+02,\n",
              "       -8.43683030e+01, -1.31279602e+02, -2.85207880e+01, -1.19499876e+02,\n",
              "       -1.07018981e+02,  4.35537320e+01, -9.09760340e+01, -1.34702052e+02,\n",
              "       -1.21722458e+02, -3.12410965e+02, -1.02806914e+02, -1.20566024e+02,\n",
              "       -5.16883420e+01, -1.00678725e+02, -7.40828870e+01, -2.07411155e+02,\n",
              "       -5.95038340e+01, -8.84984670e+01, -6.51552430e+01, -2.08400464e+02,\n",
              "       -2.90069133e+02, -8.86771720e+01, -1.78540668e+02, -1.78310079e+02,\n",
              "       -1.12157197e+02, -9.25897640e+01, -1.59483452e+02, -7.04626960e+01,\n",
              "       -2.26390487e+02, -2.59535299e+02, -9.96077030e+01, -1.75174942e+02,\n",
              "       -1.97517035e+02, -1.73642620e+02, -7.62440460e+01, -1.51427436e+02,\n",
              "       -7.21437080e+01, -2.78214170e+01, -1.02587681e+02, -8.16950570e+01,\n",
              "        1.41800690e+01, -1.44570687e+02, -1.05881343e+02, -8.78757280e+01,\n",
              "       -1.08657880e+02, -9.71629560e+01, -7.80519240e+01, -1.10739076e+02,\n",
              "       -6.36414970e+01, -3.48964570e+01, -6.03848870e+01, -3.62300770e+01,\n",
              "       -6.44716010e+01, -1.65190779e+02, -2.04721533e+02, -9.80144100e+01,\n",
              "       -9.40214690e+01, -4.05989810e+01, -7.81268640e+01, -8.38157800e+01,\n",
              "       -2.81447730e+01, -1.00035208e+02, -6.24976650e+01, -6.17061580e+01,\n",
              "       -9.78461400e+01, -6.67019700e+00, -1.95713860e+01, -2.44751045e+02,\n",
              "       -1.30841416e+02, -8.56838470e+01, -6.05471310e+01, -1.60546290e+01,\n",
              "       -1.07781456e+02, -7.24693040e+01, -1.58151357e+02, -2.69302955e+02,\n",
              "       -4.26111986e+02, -1.45300007e+03, -2.69111207e+03, -4.87944018e+02,\n",
              "       -4.41256550e+02, -3.91237006e+02, -1.23666783e+02, -1.41567040e+02,\n",
              "       -2.48281441e+02, -1.13595831e+02, -2.38262243e+02, -2.64878500e+01,\n",
              "       -6.85861590e+01, -1.41106721e+02, -1.14371404e+02,  4.92445200e+00,\n",
              "        1.64817557e+02, -5.69881690e+01, -9.93953110e+01, -1.60793187e+02,\n",
              "       -3.12392100e+01,  1.66764042e+02, -4.40407150e+01, -4.34298500e+00,\n",
              "       -1.35657947e+02, -1.48874247e+02, -1.24034622e+02, -1.42101272e+02,\n",
              "       -8.11043790e+01, -1.23684555e+02, -8.03645480e+01, -1.14855108e+02,\n",
              "       -1.63869086e+02,  1.10754067e+02, -1.78396709e+02, -1.57720502e+02,\n",
              "       -9.03531140e+01,  3.17142750e+01, -1.09978961e+02, -1.08091453e+02,\n",
              "       -1.50701213e+02, -1.22567274e+02, -1.23007985e+02,  1.31153580e+01,\n",
              "       -4.74932280e+01, -9.57205940e+01, -9.77968120e+01, -1.27050221e+02,\n",
              "       -6.18906680e+01, -1.59508147e+02, -2.98312180e+01,  1.73683644e+02,\n",
              "       -7.87176010e+01, -2.53351634e+02, -1.30393145e+02, -3.53902760e+01,\n",
              "        1.34817290e+02, -4.44860270e+01,  1.62843717e+02,  1.58171840e+01,\n",
              "        1.38138060e+02,  1.47499252e+02,  1.69877138e+02, -2.51565672e+02,\n",
              "       -2.93900459e+02, -2.31596131e+02, -2.91808560e+02, -1.82310566e+02,\n",
              "        2.27854580e+01,  7.04487000e-01, -3.27436150e+01, -3.46606200e+00,\n",
              "       -1.52280080e+01])"
            ]
          },
          "metadata": {},
          "execution_count": 84
        }
      ]
    },
    {
      "cell_type": "code",
      "source": [
        ""
      ],
      "metadata": {
        "id": "4KOcsgTMzHw_"
      },
      "execution_count": null,
      "outputs": []
    },
    {
      "cell_type": "markdown",
      "metadata": {
        "execution": {},
        "id": "suJ6uC2fxX_h"
      },
      "source": [
        "From the above plot, we observe that, although the maximum reward is achieved quickly. Achieving an episodic reward of > 200 is good. We see that the agent has achieved it in less than 50000 timesteps (speed is good!). However, there are a lot of fluctuations in the performance (stability is not good!). \n",
        "\n",
        "Your objective now is to modify the model parameters (nn_layers, learning_rate in the code cell #2 above), run all the cells following it and investigate the stability and speed of the chosen configuration.   \n"
      ]
    },
    {
      "cell_type": "code",
      "source": [
        "## Check model parameters with these snippets\n",
        "# model2.get_parameters()\n",
        "# model2.get_parameters().keys()"
      ],
      "metadata": {
        "id": "PqSrTSnp_WgV"
      },
      "execution_count": null,
      "outputs": []
    },
    {
      "cell_type": "code",
      "source": [
        ""
      ],
      "metadata": {
        "id": "cGNlDuZGcU84"
      },
      "execution_count": null,
      "outputs": []
    },
    {
      "cell_type": "code",
      "source": [
        "reloaded_model_weights = get_model_weights(model2, 'reloaded_model')"
      ],
      "metadata": {
        "id": "y_GJfP4pdc1g"
      },
      "execution_count": null,
      "outputs": []
    },
    {
      "cell_type": "markdown",
      "metadata": {
        "execution": {},
        "id": "osWTy2z-xX_h"
      },
      "source": [
        "---\n",
        "# Additional Project Ideas"
      ]
    },
    {
      "cell_type": "markdown",
      "metadata": {
        "execution": {},
        "id": "Gd_RZR0fxX_h"
      },
      "source": [
        "## 1 Play with exploration-exploitation trade-off\n",
        "\n",
        "Exploration (selecting random actions) and exploitation (selecting greedy action) is a crucial component of the DQN algorithm. Explore random actions for a long time will slow down the training process. At the same time, if all actions are not explored enough, it might lead to a sub-optimal performance. In the DQN code above, we have used the following parameters:"
      ]
    },
    {
      "cell_type": "code",
      "execution_count": null,
      "metadata": {
        "execution": {},
        "id": "mY6DSpoMxX_h"
      },
      "outputs": [],
      "source": [
        "exploration_initial_eps = 1  # initial value of random action probability. Range is between 0 and 1.\n",
        "exploration_fraction = 0.5  # fraction of entire training period over which the exploration rate is reduced. Range is between 0 and 1.\n",
        "exploration_final_eps = 0.05  # (set by defualt) final value of random action probability. Range is between 0 and 1."
      ]
    },
    {
      "cell_type": "markdown",
      "metadata": {
        "execution": {},
        "id": "4jc9JtiZxX_i"
      },
      "source": [
        "Your objective is to play around with these parameters and analyze their performance (speed and stability). You can modify these parameters and set them as arguments in DQN(...,exploration_initial_eps = 1, exploration_fraction = 0.5, exploration_final_eps = 0.05,...). "
      ]
    },
    {
      "cell_type": "markdown",
      "metadata": {
        "execution": {},
        "id": "EyURXfE4xX_i"
      },
      "source": [
        "## 2 Reward Shaping\n",
        "\n",
        "Your objective here is to construct a modified reward function that improves the performance of the Lunar Lander. To this end, you would have to create your own custom environment. An example of a custom environment is given below:"
      ]
    },
    {
      "cell_type": "code",
      "execution_count": null,
      "metadata": {
        "execution": {},
        "id": "DCYiL0H_xX_i"
      },
      "outputs": [],
      "source": [
        "# Taken from https://stable-baselines3.readthedocs.io/en/master/guide/custom_env.html\n",
        "class CustomEnv(gym.Env):\n",
        "  \"\"\"Custom Environment that follows gym interface\"\"\"\n",
        "  metadata = {'render.modes': ['human']}\n",
        "\n",
        "  def __init__(self, arg1, arg2):\n",
        "    super(CustomEnv, self).__init__()\n",
        "    # Define action and observation space\n",
        "    # They must be gym.spaces objects\n",
        "    # Example when using discrete actions:\n",
        "    self.action_space = spaces.Discrete(N_DISCRETE_ACTIONS)\n",
        "    # Example for using image as input (channel-first; channel-last also works):\n",
        "    self.observation_space = spaces.Box(low=0, high=255,\n",
        "                                        shape=(N_CHANNELS, HEIGHT, WIDTH), dtype=np.uint8)\n",
        "\n",
        "  def step(self, action):\n",
        "    ...\n",
        "    return observation, reward, done, info\n",
        "  def reset(self):\n",
        "    ...\n",
        "    return observation  # reward, done, info can't be included\n",
        "  def render(self, mode='human'):\n",
        "    ...\n",
        "  def close (self):\n",
        "    ..."
      ]
    },
    {
      "cell_type": "markdown",
      "metadata": {
        "execution": {},
        "id": "Uus1Ncm-xX_i"
      },
      "source": [
        "As you are only changing the reward structure, you can inherit the original Lunar Lander environment from https://github.com/openai/gym/blob/master/gym/envs/box2d/lunar_lander.py and modify just the \"step\" function. Focus on modifying the following part of the code in the \"step\" function\n"
      ]
    },
    {
      "cell_type": "code",
      "execution_count": null,
      "metadata": {
        "execution": {},
        "id": "S8slWB4OxX_i"
      },
      "outputs": [],
      "source": [
        "def step(self, actions):\n",
        "  ...\n",
        "  ...\n",
        "  ...\n",
        "  reward = 0\n",
        "  shaping = (\n",
        "      -100 * np.sqrt(state[0] * state[0] + state[1] * state[1])\n",
        "      - 100 * np.sqrt(state[2] * state[2] + state[3] * state[3])\n",
        "      - 100 * abs(state[4])\n",
        "      + 10 * state[6]\n",
        "      + 10 * state[7]\n",
        "  )  # And ten points for legs contact, the idea is if you\n",
        "  # lose contact again after landing, you get negative reward\n",
        "  if self.prev_shaping is not None:\n",
        "      reward = shaping - self.prev_shaping\n",
        "  self.prev_shaping = shaping\n",
        "\n",
        "  reward -= (\n",
        "      m_power * 0.30\n",
        "  )  # less fuel spent is better, about -30 for heuristic landing. You should modify these values.\n",
        "  reward -= s_power * 0.03\n",
        "\n",
        "  done = False\n",
        "  if self.game_over or abs(state[0]) >= 1.0:\n",
        "      done = True\n",
        "      reward = -100\n",
        "  if not self.lander.awake:\n",
        "      done = True\n",
        "      reward = +100\n",
        "  return np.array(state, dtype=np.float32), reward, done, {}"
      ]
    },
    {
      "cell_type": "markdown",
      "metadata": {
        "execution": {},
        "id": "Jlp-n31TxX_i"
      },
      "source": [
        "Once you have cutomized your own environment, you can execute that environment by just calling:"
      ]
    },
    {
      "cell_type": "code",
      "execution_count": null,
      "metadata": {
        "execution": {},
        "id": "NaG1aH3AxX_i"
      },
      "outputs": [],
      "source": [
        "#Enter the name of the custome environment you created and uncomment the line below.\n",
        "#env = Custom_LunarLander()\n",
        "# Refer to https://stable-baselines3.readthedocs.io/en/master/guide/custom_env.html, if you would like to create more complex environments."
      ]
    },
    {
      "cell_type": "markdown",
      "metadata": {
        "execution": {},
        "id": "uzu-QpsZxX_j"
      },
      "source": [
        "## 3 Identify the state information crucial to its performance.\n",
        "\n",
        "Your objective here is to alter the input state information and analyze the performance. The input state of the Lunar Lander consists of following components:\n",
        "\n",
        "  1. Horizontal Position\n",
        "  2. Vertical Position\n",
        "  3. Horizontal Velocity\n",
        "  4. Vertical Velocity\n",
        "  5. Angle\n",
        "  6. Angular Velocity\n",
        "  7. Left Leg Contact\n",
        "  8. Right Leg Contact\n",
        "\n",
        "You can train the algorithm by masking one of the eight components at a time and understand how that affects the performance of the algorithm. Similar to the reward shaping task, you would have to create a custom environment and modify the state space. Again, you can inherit all the necessary functions and modify the following portion of the \"Step\" function:"
      ]
    },
    {
      "cell_type": "code",
      "execution_count": null,
      "metadata": {
        "execution": {},
        "id": "FIgylShHxX_j"
      },
      "outputs": [],
      "source": [
        "def step(self, actions):\n",
        "  ...\n",
        "  ...\n",
        "  ...\n",
        "  state = [ # Remove one component at a time to investigate the effect on performance!\n",
        "            (pos.x - VIEWPORT_W / SCALE / 2) / (VIEWPORT_W / SCALE / 2),\n",
        "            (pos.y - (self.helipad_y + LEG_DOWN / SCALE)) / (VIEWPORT_H / SCALE / 2),\n",
        "            vel.x * (VIEWPORT_W / SCALE / 2) / FPS,\n",
        "            vel.y * (VIEWPORT_H / SCALE / 2) / FPS,\n",
        "            self.lander.angle,\n",
        "            20.0 * self.lander.angularVelocity / FPS,\n",
        "            1.0 if self.legs[0].ground_contact else 0.0,\n",
        "            1.0 if self.legs[1].ground_contact else 0.0,\n",
        "        ]"
      ]
    },
    {
      "cell_type": "markdown",
      "metadata": {
        "execution": {},
        "id": "HaReJtYYxX_k"
      },
      "source": [
        "## 4 Extension to Atari Games\n",
        "\n",
        "In the Lunar Lander task, the input to the algorithm is a vector of state information. Deep RL algorithms can also be applied when the input to the training is image frames, which is the case in the Atari games. For example, consider an Atari game - Pong. In this environment, the observation is an RGB image of the screen, which is an array of shape (210, 160, 3). To train the Pong game, you can start with the following sample code:"
      ]
    },
    {
      "cell_type": "code",
      "execution_count": null,
      "metadata": {
        "execution": {},
        "id": "B5Oxg8QIxX_k"
      },
      "outputs": [],
      "source": [
        "## Taken from: https://colab.research.google.com/github/Stable-Baselines-Team/rl-colab-notebooks/blob/sb3/atari_games.ipynb#scrollTo=f3K4rMXwimBO\n",
        "env = make_atari_env('PongNoFrameskip-v4', n_envs=4, seed=0)\n",
        "\n",
        "##Atari Games take a lot of memory. Following commands crash on Coalb. Run the following code on Colab Pro or your local Jupyter notebook!\n",
        "# env = VecFrameStack(env, n_stack=4)\n",
        "# model = DQN('CnnPolicy', env, verbose=1)  # Note the difference here! We use 'CnnPolicy\" here instead of 'MlpPolicy' as the input is frames.\n",
        "# model.learn(total_timesteps=1) #change the number of timesteps as desired and run this command!"
      ]
    },
    {
      "cell_type": "markdown",
      "metadata": {
        "execution": {},
        "id": "hL5TeJHZxX_k"
      },
      "source": [
        "## 5 Obstacle Avoidance and Transfer Learning\n",
        "\n",
        "Your obstacle here is to add an obstacle in the path of the lunar lander (by creating a custom environment as described in point 2 above) and train the model such that the lander lands safely, avoiding collisions. \n",
        "\n",
        "You would first want to devise a mechansim for adding obstacles. For example, you could have an imaginary obstacle at some horizantal and vertical position cooridnates and modify the reward function such that a penalty is levied if the lander comes close to it. \n",
        "\n",
        "An interesting approach to solve this problem is to apply the techniques of transfer learning. For example, you could initialise the neural network model with the weights of the trained model on the original problem to improve the sample effeciency. This can be done using the following code:"
      ]
    },
    {
      "cell_type": "code",
      "execution_count": null,
      "metadata": {
        "execution": {},
        "id": "w0CeFKHixX_l"
      },
      "outputs": [],
      "source": [
        "## Specify the load path and uncomment below:\n",
        "\n",
        "# model = load(load_path,\n",
        "#              env=gym.make('LunarLander-v2'),\n",
        "#              custom_objects=None, **kwargs)"
      ]
    },
    {
      "cell_type": "markdown",
      "metadata": {
        "execution": {},
        "id": "omfqzwlQxX_l"
      },
      "source": [
        "Following are some of the resources on transfer learning that you would want to start with. \n",
        "\n",
        "**Research Papers**\n",
        "\n",
        "Surveys:\n",
        "1. (Long, Old, Highly cited) Taylor, M. E.,  et al. (2009). Transfer learning for reinforcement learning domains. https://www.jmlr.org/papers/volume10/taylor09a/taylor09a.pdf\n",
        "\n",
        "2. (Medium, Old, Good for a quick read) Lazaric, A. (2012). Transfer in reinforcement learning: a framework and a survey. https://hal.inria.fr/docs/00/77/26/26/PDF/transfer.pdf\n",
        "\n",
        "3. (Medium, Recent, Good for a quick read) Zhu, Z., Lin, K., & Zhou, J. (2020). Transfer learning in deep reinforcement learning. https://arxiv.org/pdf/2009.07888.pdf\n",
        "\n",
        "4. Specific example:\n",
        "Barreto, A., et al. (2016).  Successor features for transfer in reinforcement learning. https://arxiv.org/pdf/1606.05312"
      ]
    },
    {
      "cell_type": "markdown",
      "metadata": {
        "execution": {},
        "id": "er67NMCkxX_l"
      },
      "source": [
        "## 5(b) Transfer Learning in minigrid environment\n",
        "\n",
        "These are some simple gridworld gym environments designed to be particularly simple, lightweight and fast. Refer to https://github.com/maximecb/gym-minigrid for description of the environments. An example to load a minigrid environment is given below:"
      ]
    },
    {
      "cell_type": "code",
      "execution_count": null,
      "metadata": {
        "execution": {},
        "id": "rVhVBpTwxX_l"
      },
      "outputs": [],
      "source": [
        "!pip install gym-minigrid --quiet\n",
        "import gym_minigrid\n",
        "env = gym.make('MiniGrid-Empty-5x5-v0')"
      ]
    },
    {
      "cell_type": "markdown",
      "metadata": {
        "execution": {},
        "id": "j21_BZvhxX_l"
      },
      "source": [
        "You can train a standard DQN agent in this env by wrapping the env with full image observation wrappers:\n"
      ]
    },
    {
      "cell_type": "code",
      "execution_count": null,
      "metadata": {
        "execution": {},
        "id": "a6wuIn_9xX_m"
      },
      "outputs": [],
      "source": [
        "env = gym_minigrid.wrappers.ImgObsWrapper(gym_minigrid.wrappers.RGBImgObsWrapper(env))"
      ]
    },
    {
      "cell_type": "markdown",
      "metadata": {
        "execution": {},
        "id": "M1cS22M0xX_m"
      },
      "source": [
        "Note that with full image observations, the shape of the image observations may differ between envs. For e.g., MiniGrid-Empty-5x5-v0 is (40,40,3) while MiniGrid-Empty-8x8-v0 is (64,64,3). So you may need to resize the observations for transfer learning to work with the same DQN architecture.\n",
        "\n",
        "Now try training a DQN (or another method) in one (or multiple) minigrid env(s),and see if that knowledge transfers to another (or multiple other) minigrid env(s).\n"
      ]
    },
    {
      "cell_type": "markdown",
      "metadata": {
        "execution": {},
        "id": "u5gVtQ5nxX_m"
      },
      "source": [
        "## 6 Preference-Based RL (PBRL)\n",
        "\n",
        "PBRL is an exciting sub-area in RL where the traditional reward structure is replaced with human preferences. This setting is very useful in applications where it is difficult to construct a reward function. \n",
        "\n",
        "In the earlier section, we have successfully trained the lunar lander to land safely. Here, the path that the lander follows to land safely can be arbitrary. In this project, using the techniques of PBRL, you will solve the lunar lander problem with an additional requirement that the lander should follow a specially curated path (for example, a straight line path). Following are some of the resources that will help you to get started with this project. \n",
        "\n",
        "**Research papers:**\n",
        "1. Deep Reinforcement Learning\n",
        "from Human Preferences https://papers.nips.cc/paper/2017/file/d5e2c0adad503c91f91df240d0cd4e49-Paper.pdf\n",
        "2. Deep Q-learning from Demonstrations https://arxiv.org/pdf/1704.03732.pdf\n",
        "3. Reward learning from human preferences https://arxiv.org/pdf/1811.06521.pdf\n",
        "4. T-REX https://arxiv.org/pdf/1904.06387.pdf\n",
        "\n",
        "**Code Bases:**\n",
        "1. https://github.com/nottombrown/rl-teacher\n",
        "2. https://github.com/hiwonjoon/ICML2019-TREX\n"
      ]
    },
    {
      "cell_type": "markdown",
      "metadata": {
        "execution": {},
        "id": "fSwjtmQJxX_m"
      },
      "source": [
        "---\n",
        "# References\n",
        "\n",
        "1. Stable Baselines Framework: https://stable-baselines3.readthedocs.io/en/master/guide/examples.html\n",
        "\n",
        "2. Lunar Lander Environment: https://gym.openai.com/envs/LunarLander-v2/\n",
        "\n",
        "3. OpenAI gym environments: https://gym.openai.com/docs/\n",
        "\n",
        "4. A good reference for introduction to RL: http://incompleteideas.net/book/the-book-2nd.html\n"
      ]
    }
  ],
  "metadata": {
    "accelerator": "GPU",
    "colab": {
      "collapsed_sections": [],
      "name": "lunar_lander másolata másolata",
      "provenance": [],
      "include_colab_link": true
    },
    "gpuClass": "standard",
    "kernel": {
      "display_name": "Python 3",
      "language": "python",
      "name": "python3"
    },
    "kernelspec": {
      "display_name": "Python 3",
      "name": "python3"
    },
    "language_info": {
      "name": "python"
    }
  },
  "nbformat": 4,
  "nbformat_minor": 0
}